{
 "cells": [
  {
   "cell_type": "code",
   "execution_count": 65,
   "metadata": {},
   "outputs": [],
   "source": [
    "import requests\n",
    "import numpy as np\n",
    "\n",
    "\n",
    "FORECAST_URL = 'https://api.open-meteo.com/v1/forecast'\n",
    "\n",
    "HISTORICAL_DATA_URL = 'https://archive-api.open-meteo.com/v1/era5'\n",
    "\n",
    "FORECAST_PARAMS = {\n",
    "    'latitude':39.9439,\n",
    "    'longitude': 32.8560,\n",
    "    'hourly': ['temperature_2m', 'relativehumidity_2m', 'dewpoint_2m', 'precipitation', 'rain', 'windspeed_10m', 'winddirection_10m', 'soil_moisture_9_27cm', 'cloudcover']\n",
    "}\n",
    "\n",
    "HISTORICAL_PARAMS = {\n",
    "    'latitude':39.9439,\n",
    "    'longitude': 32.8560,\n",
    "    'hourly': ['temperature_2m', 'relativehumidity_2m', 'dewpoint_2m', 'precipitation', 'rain', 'windspeed_10m', 'soil_moisture_7_to_28cm', 'cloudcover']\n",
    "}\n",
    "\n",
    "forecast_r = requests.get(url = FORECAST_URL, params = FORECAST_PARAMS)\n",
    "\n",
    "HISTORICAL_PARAMS['start_date'] = '2021-01-01'\n",
    "HISTORICAL_PARAMS['end_date'] = '2022-01-01'\n",
    "\n",
    "historical_r = requests.get(url = HISTORICAL_DATA_URL, params = HISTORICAL_PARAMS)\n",
    "\n",
    "forecast_data = forecast_r.json()\n",
    "historical_data = historical_r.json()\n",
    "\n"
   ]
  },
  {
   "cell_type": "code",
   "execution_count": 77,
   "metadata": {},
   "outputs": [
    {
     "name": "stdout",
     "output_type": "stream",
     "text": [
      "time temperature_2m relativehumidity_2m dewpoint_2m precipitation rain windspeed_10m winddirection_10m soil_moisture_9_27cm cloudcover ****************\n",
      "time temperature_2m relativehumidity_2m dewpoint_2m precipitation rain windspeed_10m soil_moisture_7_to_28cm cloudcover 0 ('2021-01-01T00:00', 2.1)\n",
      "1 ('2021-01-01T01:00', 2.1)\n",
      "2 ('2021-01-01T02:00', 1.6)\n",
      "3 ('2021-01-01T03:00', 1.1)\n",
      "4 ('2021-01-01T04:00', 0.6)\n",
      "5 ('2021-01-01T05:00', 0.1)\n",
      "6 ('2021-01-01T06:00', 1.5)\n",
      "7 ('2021-01-01T07:00', 3.5)\n",
      "8 ('2021-01-01T08:00', 7.6)\n",
      "9 ('2021-01-01T09:00', 9.9)\n",
      "\n",
      "168\n",
      "366.0\n"
     ]
    }
   ],
   "source": [
    "for i in forecast_data['hourly']:\n",
    "    print(i, end=' ')\n",
    "print('****************')\n",
    "for i in historical_data['hourly']:\n",
    "    print(i, end=' ')\n",
    "\n",
    "# print('****************')\n",
    "# print('Forecast Data for 2 meters temperature')\n",
    "\n",
    "# for element in zip(forecast_data['hourly']['time'][:100], forecast_data['hourly']['temperature_2m'][:100], forecast_data['hourly']['relativehumidity_2m'][:100]\n",
    "# , forecast_data['hourly']['rain'][:100]):\n",
    "#     print(element)\n",
    "    \n",
    "# print('****************')\n",
    "# print('Historical Data for 2 meters temperature')    \n",
    "\n",
    "for i, element in enumerate(zip(historical_data['hourly']['time'][:10], historical_data['hourly']['temperature_2m'][:10])):\n",
    "    print(i, element)\n",
    "\n",
    "print()\n",
    "print(len(forecast_data['hourly']['temperature_2m']))\n",
    "print(len(historical_data['hourly']['temperature_2m'])/24)"
   ]
  },
  {
   "cell_type": "code",
   "execution_count": 67,
   "metadata": {},
   "outputs": [],
   "source": [
    "def get_pth_percentile(array, percentile):\n",
    "    sorted = np.sort(array)\n",
    "\n",
    "    ith = int((percentile/100)*(len(array)-1))\n",
    "\n",
    "    return sorted[ith]\n"
   ]
  },
  {
   "cell_type": "code",
   "execution_count": 68,
   "metadata": {},
   "outputs": [
    {
     "name": "stdout",
     "output_type": "stream",
     "text": [
      "{'time': '2021-11-26T08:00', 'temperature_2m': 26.3, 'relativehumidity_2m': 88, 'dewpoint_2m': 11.6, 'precipitation': 0.0, 'rain': 0.0, 'windspeed_10m': 13.2, 'soil_moisture_7_to_28cm': 0.291, 'cloudcover': 96}\n",
      "{'time': '2021-02-06T14:00', 'temperature_2m': 0.7, 'relativehumidity_2m': 28, 'dewpoint_2m': -4.0, 'precipitation': 0.0, 'rain': 0.0, 'windspeed_10m': 3.4, 'soil_moisture_7_to_28cm': 0.108, 'cloudcover': 0}\n"
     ]
    }
   ],
   "source": [
    "high_thresholds = {}\n",
    "for i in historical_data['hourly']:\n",
    "    high_thresholds[i] = get_pth_percentile(historical_data['hourly'][i], 90)\n",
    "\n",
    "low_thresholds = {}\n",
    "for i in historical_data['hourly']:\n",
    "    low_thresholds[i] = get_pth_percentile(historical_data['hourly'][i], 10)\n",
    "\n",
    "print(high_thresholds)\n",
    "print(low_thresholds)"
   ]
  },
  {
   "cell_type": "markdown",
   "metadata": {},
   "source": [
    "### Increasing Irrigation\n",
    "\n",
    "Temperature is high / humidity is low / wind speed is high"
   ]
  },
  {
   "cell_type": "code",
   "execution_count": 90,
   "metadata": {},
   "outputs": [
    {
     "name": "stdout",
     "output_type": "stream",
     "text": [
      "{1: [('windspeed_10m', '2022-12-26T10:00')], 2: [], 3: [], 4: [], 5: [], 6: [], 7: []}\n"
     ]
    }
   ],
   "source": [
    "def increase_irrigation_alert(forecasted_data):\n",
    "    alerts = {}\n",
    "    day = 0\n",
    "    for i, row in enumerate(zip(forecasted_data['temperature_2m'], forecasted_data['relativehumidity_2m'], forecasted_data['windspeed_10m'])):\n",
    "        if(i%24 == 0):\n",
    "            day += 1\n",
    "            alerts[day] = []\n",
    "        #     print(f'DAY {day}: ')\n",
    "        # print(i, row)\n",
    "        if(row[0] > high_thresholds['temperature_2m']):\n",
    "            alerts[day].append(('temperature_2m', forecasted_data['time'][i]))\n",
    "\n",
    "        if(row[1] < low_thresholds['relativehumidity_2m']):\n",
    "            alerts[day].append(('relativehumidity_2m', forecasted_data['time'][i]))\n",
    "\n",
    "        if(row[2] > high_thresholds['windspeed_10m']):\n",
    "            alerts[day].append(('windspeed_10m', forecasted_data['time'][i]))\n",
    "\n",
    "    print(alerts)\n",
    "\n",
    "increase_irrigation_alert(forecast_data['hourly'])\n"
   ]
  },
  {
   "cell_type": "markdown",
   "metadata": {},
   "source": [
    "### Decreasing Irrigation\n",
    "\n",
    "Rain, precipitation is high / soil moisture is high"
   ]
  },
  {
   "cell_type": "code",
   "execution_count": 95,
   "metadata": {},
   "outputs": [
    {
     "name": "stdout",
     "output_type": "stream",
     "text": [
      "1 [('soil_moisture_9_27cm', '2022-12-26T00:00'), ('soil_moisture_9_27cm', '2022-12-26T01:00'), ('soil_moisture_9_27cm', '2022-12-26T02:00'), ('soil_moisture_9_27cm', '2022-12-26T03:00'), ('soil_moisture_9_27cm', '2022-12-26T04:00'), ('soil_moisture_9_27cm', '2022-12-26T05:00'), ('soil_moisture_9_27cm', '2022-12-26T06:00'), ('soil_moisture_9_27cm', '2022-12-26T07:00'), ('soil_moisture_9_27cm', '2022-12-26T08:00'), ('soil_moisture_9_27cm', '2022-12-26T09:00'), ('soil_moisture_9_27cm', '2022-12-26T10:00'), ('soil_moisture_9_27cm', '2022-12-26T11:00'), ('soil_moisture_9_27cm', '2022-12-26T12:00'), ('soil_moisture_9_27cm', '2022-12-26T13:00'), ('soil_moisture_9_27cm', '2022-12-26T14:00'), ('soil_moisture_9_27cm', '2022-12-26T15:00'), ('soil_moisture_9_27cm', '2022-12-26T16:00'), ('soil_moisture_9_27cm', '2022-12-26T17:00'), ('soil_moisture_9_27cm', '2022-12-26T18:00'), ('soil_moisture_9_27cm', '2022-12-26T19:00'), ('soil_moisture_9_27cm', '2022-12-26T20:00'), ('soil_moisture_9_27cm', '2022-12-26T21:00'), ('soil_moisture_9_27cm', '2022-12-26T22:00'), ('soil_moisture_9_27cm', '2022-12-26T23:00')]\n",
      "\n",
      "2 [('soil_moisture_9_27cm', '2022-12-27T00:00'), ('soil_moisture_9_27cm', '2022-12-27T01:00'), ('soil_moisture_9_27cm', '2022-12-27T02:00'), ('soil_moisture_9_27cm', '2022-12-27T03:00'), ('soil_moisture_9_27cm', '2022-12-27T04:00'), ('soil_moisture_9_27cm', '2022-12-27T05:00'), ('soil_moisture_9_27cm', '2022-12-27T06:00'), ('soil_moisture_9_27cm', '2022-12-27T07:00'), ('soil_moisture_9_27cm', '2022-12-27T08:00'), ('soil_moisture_9_27cm', '2022-12-27T09:00'), ('soil_moisture_9_27cm', '2022-12-27T10:00'), ('soil_moisture_9_27cm', '2022-12-27T11:00'), ('soil_moisture_9_27cm', '2022-12-27T12:00'), ('soil_moisture_9_27cm', '2022-12-27T13:00'), ('soil_moisture_9_27cm', '2022-12-27T14:00'), ('soil_moisture_9_27cm', '2022-12-27T15:00'), ('soil_moisture_9_27cm', '2022-12-27T16:00'), ('soil_moisture_9_27cm', '2022-12-27T17:00'), ('soil_moisture_9_27cm', '2022-12-27T18:00'), ('soil_moisture_9_27cm', '2022-12-27T19:00'), ('soil_moisture_9_27cm', '2022-12-27T20:00'), ('soil_moisture_9_27cm', '2022-12-27T21:00'), ('soil_moisture_9_27cm', '2022-12-27T22:00'), ('soil_moisture_9_27cm', '2022-12-27T23:00')]\n",
      "\n",
      "3 [('soil_moisture_9_27cm', '2022-12-28T00:00'), ('soil_moisture_9_27cm', '2022-12-28T01:00'), ('soil_moisture_9_27cm', '2022-12-28T02:00'), ('soil_moisture_9_27cm', '2022-12-28T03:00'), ('soil_moisture_9_27cm', '2022-12-28T04:00'), ('soil_moisture_9_27cm', '2022-12-28T05:00'), ('soil_moisture_9_27cm', '2022-12-28T06:00'), ('soil_moisture_9_27cm', '2022-12-28T07:00'), ('soil_moisture_9_27cm', '2022-12-28T08:00'), ('soil_moisture_9_27cm', '2022-12-28T09:00'), ('soil_moisture_9_27cm', '2022-12-28T10:00'), ('soil_moisture_9_27cm', '2022-12-28T11:00'), ('soil_moisture_9_27cm', '2022-12-28T12:00'), ('soil_moisture_9_27cm', '2022-12-28T13:00'), ('soil_moisture_9_27cm', '2022-12-28T14:00'), ('soil_moisture_9_27cm', '2022-12-28T15:00'), ('soil_moisture_9_27cm', '2022-12-28T16:00'), ('soil_moisture_9_27cm', '2022-12-28T17:00'), ('soil_moisture_9_27cm', '2022-12-28T18:00'), ('soil_moisture_9_27cm', '2022-12-28T19:00'), ('soil_moisture_9_27cm', '2022-12-28T20:00'), ('soil_moisture_9_27cm', '2022-12-28T21:00'), ('soil_moisture_9_27cm', '2022-12-28T22:00'), ('soil_moisture_9_27cm', '2022-12-28T23:00')]\n",
      "\n",
      "4 [('soil_moisture_9_27cm', '2022-12-29T00:00'), ('soil_moisture_9_27cm', '2022-12-29T01:00'), ('soil_moisture_9_27cm', '2022-12-29T02:00'), ('soil_moisture_9_27cm', '2022-12-29T03:00'), ('soil_moisture_9_27cm', '2022-12-29T04:00'), ('soil_moisture_9_27cm', '2022-12-29T05:00'), ('soil_moisture_9_27cm', '2022-12-29T06:00'), ('soil_moisture_9_27cm', '2022-12-29T07:00'), ('soil_moisture_9_27cm', '2022-12-29T08:00'), ('soil_moisture_9_27cm', '2022-12-29T09:00'), ('soil_moisture_9_27cm', '2022-12-29T10:00'), ('soil_moisture_9_27cm', '2022-12-29T11:00'), ('soil_moisture_9_27cm', '2022-12-29T12:00'), ('soil_moisture_9_27cm', '2022-12-29T13:00'), ('soil_moisture_9_27cm', '2022-12-29T14:00'), ('soil_moisture_9_27cm', '2022-12-29T15:00'), ('soil_moisture_9_27cm', '2022-12-29T16:00'), ('soil_moisture_9_27cm', '2022-12-29T17:00'), ('soil_moisture_9_27cm', '2022-12-29T18:00'), ('soil_moisture_9_27cm', '2022-12-29T19:00'), ('soil_moisture_9_27cm', '2022-12-29T20:00'), ('soil_moisture_9_27cm', '2022-12-29T21:00'), ('soil_moisture_9_27cm', '2022-12-29T22:00'), ('soil_moisture_9_27cm', '2022-12-29T23:00')]\n",
      "\n",
      "5 [('soil_moisture_9_27cm', '2022-12-30T00:00'), ('soil_moisture_9_27cm', '2022-12-30T01:00'), ('soil_moisture_9_27cm', '2022-12-30T02:00'), ('soil_moisture_9_27cm', '2022-12-30T03:00'), ('soil_moisture_9_27cm', '2022-12-30T04:00'), ('soil_moisture_9_27cm', '2022-12-30T05:00'), ('soil_moisture_9_27cm', '2022-12-30T06:00'), ('soil_moisture_9_27cm', '2022-12-30T07:00'), ('soil_moisture_9_27cm', '2022-12-30T08:00'), ('soil_moisture_9_27cm', '2022-12-30T09:00'), ('soil_moisture_9_27cm', '2022-12-30T10:00'), ('soil_moisture_9_27cm', '2022-12-30T11:00'), ('soil_moisture_9_27cm', '2022-12-30T12:00'), ('soil_moisture_9_27cm', '2022-12-30T13:00'), ('soil_moisture_9_27cm', '2022-12-30T14:00'), ('soil_moisture_9_27cm', '2022-12-30T15:00'), ('soil_moisture_9_27cm', '2022-12-30T16:00'), ('soil_moisture_9_27cm', '2022-12-30T17:00'), ('soil_moisture_9_27cm', '2022-12-30T18:00'), ('soil_moisture_9_27cm', '2022-12-30T19:00'), ('soil_moisture_9_27cm', '2022-12-30T20:00'), ('soil_moisture_9_27cm', '2022-12-30T21:00'), ('soil_moisture_9_27cm', '2022-12-30T22:00'), ('soil_moisture_9_27cm', '2022-12-30T23:00')]\n",
      "\n",
      "6 [('soil_moisture_9_27cm', '2022-12-31T00:00'), ('soil_moisture_9_27cm', '2022-12-31T01:00'), ('soil_moisture_9_27cm', '2022-12-31T02:00'), ('soil_moisture_9_27cm', '2022-12-31T03:00'), ('soil_moisture_9_27cm', '2022-12-31T04:00'), ('soil_moisture_9_27cm', '2022-12-31T05:00'), ('soil_moisture_9_27cm', '2022-12-31T06:00'), ('soil_moisture_9_27cm', '2022-12-31T07:00'), ('soil_moisture_9_27cm', '2022-12-31T08:00'), ('soil_moisture_9_27cm', '2022-12-31T09:00'), ('soil_moisture_9_27cm', '2022-12-31T10:00'), ('soil_moisture_9_27cm', '2022-12-31T11:00'), ('soil_moisture_9_27cm', '2022-12-31T12:00'), ('soil_moisture_9_27cm', '2022-12-31T13:00')]\n",
      "\n",
      "7 []\n",
      "\n"
     ]
    }
   ],
   "source": [
    "def decrease_irrigation_alert(forecasted_data):\n",
    "    alerts = {}\n",
    "    day = 0\n",
    "    for i, row in enumerate(zip(forecasted_data['rain'], forecasted_data['soil_moisture_9_27cm'])):\n",
    "        if(i%24 == 0):\n",
    "            day += 1\n",
    "            alerts[day] = []\n",
    "        #     print(f'DAY {day}: ')\n",
    "        # print(i, row)\n",
    "        if(row[0] > high_thresholds['rain']):\n",
    "            alerts[day].append(('rain', forecasted_data['time'][i]))\n",
    "\n",
    "        if(row[1] > high_thresholds['soil_moisture_7_to_28cm']):\n",
    "            alerts[day].append(('soil_moisture_9_27cm', forecasted_data['time'][i]))\n",
    "\n",
    "    for i in alerts:\n",
    "        print(i, alerts[i])\n",
    "        print()\n",
    "\n",
    "decrease_irrigation_alert(forecast_data['hourly'])\n"
   ]
  },
  {
   "cell_type": "markdown",
   "metadata": {},
   "source": [
    "### Frost Warning\n",
    "\n",
    "- A forecasted overnight low less than 40 degrees F. (4.4 C.). \n",
    "- A dewpoint lower than 40 degrees F. \n",
    "- A cloudless night. (Be aware skies can clear overnight.) \n",
    "- A windless night.\n",
    "\n",
    "Read more at Gardening Know How: How To Predict Frost And Protect Your Garden https://www.gardeningknowhow.com/plant-problems/environmental/how-to-predict-frost.htm"
   ]
  },
  {
   "cell_type": "markdown",
   "metadata": {},
   "source": [
    "### Recommendation of Irrigation Schedule\n",
    "\n",
    "May be determined according to the sunrise/sunset"
   ]
  },
  {
   "cell_type": "markdown",
   "metadata": {},
   "source": []
  }
 ],
 "metadata": {
  "kernelspec": {
   "display_name": "Python 3.8.13 64-bit",
   "language": "python",
   "name": "python3"
  },
  "language_info": {
   "codemirror_mode": {
    "name": "ipython",
    "version": 3
   },
   "file_extension": ".py",
   "mimetype": "text/x-python",
   "name": "python",
   "nbconvert_exporter": "python",
   "pygments_lexer": "ipython3",
   "version": "3.8.13"
  },
  "orig_nbformat": 4,
  "vscode": {
   "interpreter": {
    "hash": "5b6e8fba36db23bc4d54e0302cd75fdd75c29d9edcbab68d6cfc74e7e4b30305"
   }
  }
 },
 "nbformat": 4,
 "nbformat_minor": 2
}
