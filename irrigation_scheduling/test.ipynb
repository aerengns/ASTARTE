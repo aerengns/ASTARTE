{
 "cells": [
  {
   "cell_type": "code",
   "execution_count": 1,
   "metadata": {},
   "outputs": [],
   "source": [
    "import requests\n",
    "import numpy as np\n",
    "\n",
    "\n",
    "FORECAST_URL = 'https://api.open-meteo.com/v1/forecast'\n",
    "\n",
    "HISTORICAL_DATA_URL = 'https://archive-api.open-meteo.com/v1/era5'\n",
    "\n",
    "FORECAST_PARAMS = {\n",
    "    'latitude':39.9439,\n",
    "    'longitude': 32.8560,\n",
    "    'hourly': ['temperature_2m', 'relativehumidity_2m', 'dewpoint_2m', 'precipitation', 'rain', 'windspeed_10m', 'winddirection_10m', 'soil_moisture_9_27cm', 'cloudcover']\n",
    "}\n",
    "\n",
    "HISTORICAL_PARAMS = {\n",
    "    'latitude':39.9439,\n",
    "    'longitude': 32.8560,\n",
    "    'hourly': ['temperature_2m', 'relativehumidity_2m', 'dewpoint_2m', 'precipitation', 'rain', 'windspeed_10m', 'soil_moisture_7_to_28cm', 'cloudcover']\n",
    "}\n",
    "\n",
    "forecast_r = requests.get(url = FORECAST_URL, params = FORECAST_PARAMS)\n",
    "\n",
    "HISTORICAL_PARAMS['start_date'] = '2021-01-01'\n",
    "HISTORICAL_PARAMS['end_date'] = '2022-01-01'\n",
    "\n",
    "historical_r = requests.get(url = HISTORICAL_DATA_URL, params = HISTORICAL_PARAMS)\n",
    "\n",
    "forecast_data = forecast_r.json()\n",
    "historical_data = historical_r.json()\n",
    "\n"
   ]
  },
  {
   "cell_type": "code",
   "execution_count": 18,
   "metadata": {},
   "outputs": [
    {
     "name": "stdout",
     "output_type": "stream",
     "text": [
      "30.0\n"
     ]
    }
   ],
   "source": [
    "historical_last_month = {}\n",
    "\n",
    "for i in historical_data['hourly']:\n",
    "    historical_last_month[i] = historical_data['hourly'][i][:24*30]\n",
    "\n",
    "print(len(historical_last_month['temperature_2m'])/24)"
   ]
  },
  {
   "cell_type": "code",
   "execution_count": 19,
   "metadata": {},
   "outputs": [
    {
     "name": "stdout",
     "output_type": "stream",
     "text": [
      "time temperature_2m relativehumidity_2m dewpoint_2m precipitation rain windspeed_10m winddirection_10m soil_moisture_9_27cm cloudcover ****************\n",
      "time temperature_2m relativehumidity_2m dewpoint_2m precipitation rain windspeed_10m soil_moisture_7_to_28cm cloudcover 0 ('2021-01-01T00:00', 3.2)\n",
      "1 ('2021-01-01T01:00', 3.4)\n",
      "2 ('2021-01-01T02:00', 3.0)\n",
      "3 ('2021-01-01T03:00', 2.3)\n",
      "4 ('2021-01-01T04:00', 1.1)\n",
      "5 ('2021-01-01T05:00', 0.3)\n",
      "6 ('2021-01-01T06:00', 0.8)\n",
      "7 ('2021-01-01T07:00', 4.4)\n",
      "8 ('2021-01-01T08:00', 8.6)\n",
      "9 ('2021-01-01T09:00', 10.6)\n",
      "\n",
      "168\n",
      "366.0\n"
     ]
    }
   ],
   "source": [
    "for i in forecast_data['hourly']:\n",
    "    print(i, end=' ')\n",
    "print('****************')\n",
    "for i in historical_data['hourly']:\n",
    "    print(i, end=' ')\n",
    "\n",
    "# print('****************')\n",
    "# print('Forecast Data for 2 meters temperature')\n",
    "\n",
    "# for element in zip(forecast_data['hourly']['time'][:100], forecast_data['hourly']['temperature_2m'][:100], forecast_data['hourly']['relativehumidity_2m'][:100]\n",
    "# , forecast_data['hourly']['rain'][:100]):\n",
    "#     print(element)\n",
    "\n",
    "# print('****************')\n",
    "# print('Historical Data for 2 meters temperature')\n",
    "\n",
    "for i, element in enumerate(zip(historical_data['hourly']['time'][:10], historical_data['hourly']['temperature_2m'][:10])):\n",
    "    print(i, element)\n",
    "\n",
    "print()\n",
    "print(len(forecast_data['hourly']['temperature_2m']))\n",
    "print(len(historical_data['hourly']['temperature_2m'])/24)"
   ]
  },
  {
   "cell_type": "code",
   "execution_count": 20,
   "metadata": {},
   "outputs": [],
   "source": [
    "def get_pth_percentile(array, percentile):\n",
    "    sorted = np.sort(array)\n",
    "\n",
    "    ith = int((percentile/100)*(len(array)-1))\n",
    "\n",
    "    return sorted[ith]\n"
   ]
  },
  {
   "cell_type": "code",
   "execution_count": 60,
   "metadata": {},
   "outputs": [
    {
     "name": "stdout",
     "output_type": "stream",
     "text": [
      "{'time': '2021-11-26T08:00', 'temperature_2m': 25.5, 'relativehumidity_2m': 90, 'dewpoint_2m': 11.4, 'precipitation': 0.0, 'rain': 0.0, 'windspeed_10m': 13.2, 'soil_moisture_7_to_28cm': 0.334, 'cloudcover': 96}\n",
      "{'time': '2021-02-06T14:00', 'temperature_2m': 0.2, 'relativehumidity_2m': 28, 'dewpoint_2m': -4.4, 'precipitation': 0.0, 'rain': 0.0, 'windspeed_10m': 3.4, 'soil_moisture_7_to_28cm': 0.14, 'cloudcover': 0}\n",
      "\n",
      " {'time': '2021-01-27T23:00', 'temperature_2m': 10.7, 'relativehumidity_2m': 94, 'dewpoint_2m': 5.1, 'precipitation': 0.3, 'rain': 0.1, 'windspeed_10m': 13.3, 'soil_moisture_7_to_28cm': 0.331, 'cloudcover': 100}\n",
      "{'time': '2021-01-03T23:00', 'temperature_2m': -3.9, 'relativehumidity_2m': 50, 'dewpoint_2m': -10.0, 'precipitation': 0.0, 'rain': 0.0, 'windspeed_10m': 3.3, 'soil_moisture_7_to_28cm': 0.194, 'cloudcover': 2}\n"
     ]
    }
   ],
   "source": [
    "high_thresholds = {}\n",
    "for i in historical_data['hourly']:\n",
    "    high_thresholds[i] = get_pth_percentile(historical_data['hourly'][i], 90)\n",
    "\n",
    "low_thresholds = {}\n",
    "for i in historical_data['hourly']:\n",
    "    low_thresholds[i] = get_pth_percentile(historical_data['hourly'][i], 10)\n",
    "\n",
    "print(high_thresholds)\n",
    "print(low_thresholds)\n",
    "\n",
    "###########################################################################\n",
    "\n",
    "high_thresholds = {}\n",
    "for i in historical_last_month:\n",
    "    high_thresholds[i] = get_pth_percentile(historical_last_month[i], 90)\n",
    "\n",
    "low_thresholds = {}\n",
    "for i in historical_last_month:\n",
    "    low_thresholds[i] = get_pth_percentile(historical_last_month[i], 10)\n",
    "\n",
    "print('\\n', high_thresholds)\n",
    "print(low_thresholds)"
   ]
  },
  {
   "cell_type": "markdown",
   "metadata": {},
   "source": [
    "### Increasing Irrigation\n",
    "\n",
    "Temperature is high / humidity is low / wind speed is high"
   ]
  },
  {
   "cell_type": "code",
   "execution_count": 57,
   "metadata": {},
   "outputs": [],
   "source": [
    "def increase_irrigation_alert(forecasted_data):\n",
    "    alerts = {}\n",
    "    alert_type = {}\n",
    "    alert_type['temperature_2m'] = 'high'\n",
    "    alert_type['relativehumidity_2m'] = 'low'\n",
    "    alert_type['windspeed_10m'] = 'high'\n",
    "    day = 0\n",
    "    for i, row in enumerate(zip(forecasted_data['temperature_2m'], forecasted_data['relativehumidity_2m'], forecasted_data['windspeed_10m'])):\n",
    "        if(i%24 == 0):\n",
    "            day += 1\n",
    "            alerts[day] = {}\n",
    "            alerts[day]['temperature_2m'] = []\n",
    "            alerts[day]['relativehumidity_2m'] = []\n",
    "            alerts[day]['windspeed_10m'] = []\n",
    "            \n",
    "        if(row[0] > high_thresholds['temperature_2m']):\n",
    "            alerts[day]['temperature_2m'].append(forecasted_data['time'][i])\n",
    "\n",
    "        if(row[1] < low_thresholds['relativehumidity_2m']):\n",
    "            alerts[day]['relativehumidity_2m'].append(forecasted_data['time'][i])\n",
    "\n",
    "        if(row[2] > high_thresholds['windspeed_10m']):\n",
    "            alerts[day]['windspeed_10m'].append(forecasted_data['time'][i])\n",
    "\n",
    "    return alerts, alert_type\n",
    "\n",
    "y = increase_irrigation_alert(forecast_data['hourly'])\n"
   ]
  },
  {
   "cell_type": "markdown",
   "metadata": {},
   "source": [
    "### Decreasing Irrigation\n",
    "\n",
    "Rain, precipitation is high / soil moisture is high"
   ]
  },
  {
   "cell_type": "code",
   "execution_count": 58,
   "metadata": {},
   "outputs": [],
   "source": [
    "def decrease_irrigation_alert(forecasted_data):\n",
    "    alerts = {}\n",
    "    alert_type = {}\n",
    "    alert_type['precipitation'] = 'high'\n",
    "    alert_type['soil_moisture_9_27cm'] = 'high'\n",
    "    day = 0\n",
    "    for i, row in enumerate(zip(forecasted_data['precipitation'], forecasted_data['soil_moisture_9_27cm'])):\n",
    "        if(i%24 == 0):\n",
    "            day += 1\n",
    "            alerts[day] = {}\n",
    "            alerts[day]['precipitation'] = []\n",
    "            alerts[day]['soil_moisture_9_27cm'] = []\n",
    "        #     print(f'DAY {day}: ')\n",
    "        # print(i, row)\n",
    "        if(row[0] > high_thresholds['precipitation']):\n",
    "            alerts[day]['precipitation'].append(forecasted_data['time'][i])\n",
    "\n",
    "        if(row[1] > high_thresholds['soil_moisture_7_to_28cm']):\n",
    "            alerts[day]['soil_moisture_9_27cm'].append(forecasted_data['time'][i])\n",
    "    return alerts, alert_type\n",
    "\n",
    "x = decrease_irrigation_alert(forecast_data['hourly'])"
   ]
  },
  {
   "cell_type": "markdown",
   "metadata": {},
   "source": [
    "### Frost Warning\n",
    "\n",
    "- A forecasted overnight low less than 40 degrees F. (4.4 C.). \n",
    "- A dewpoint lower than 40 degrees F. \n",
    "- A cloudless night. (Be aware skies can clear overnight.) \n",
    "- A windless night.\n",
    "\n",
    "Read more at Gardening Know How: How To Predict Frost And Protect Your Garden https://www.gardeningknowhow.com/plant-problems/environmental/how-to-predict-frost.htm"
   ]
  },
  {
   "cell_type": "code",
   "execution_count": 70,
   "metadata": {},
   "outputs": [
    {
     "data": {
      "text/plain": [
       "[-0.5, -0.6, -0.7, -0.9, -1.4, -1.8, -0.7, -0.5]"
      ]
     },
     "execution_count": 70,
     "metadata": {},
     "output_type": "execute_result"
    }
   ],
   "source": [
    "type(forecast_data['hourly']['temperature_2m'])\n",
    "forecast_data['hourly']['dewpoint_2m'][:8]"
   ]
  },
  {
   "cell_type": "code",
   "execution_count": 78,
   "metadata": {},
   "outputs": [
    {
     "name": "stdout",
     "output_type": "stream",
     "text": [
      "\n",
      " Day: 2 \n",
      " The frost is expected!!!!!!!\n",
      "\n",
      " Day: 3 \n",
      " The frost is expected!!!!!!!\n",
      "\n",
      "[-3.4, -3.6, -3.8, -3.7, -3.5, -3.3, -2.9, -2.0]\n",
      "[-4.0, -4.2, -4.3, -4.2, -4.0, -3.7, -3.4, -2.7]\n",
      "[3.1, 2.9, 1.3, 1.1, 1.1, 1.5, 1.5, 1.0]\n",
      "[23, 38, 59, 96, 95, 100, 100, 100]\n"
     ]
    }
   ],
   "source": [
    "def frost_warning(forecasted_data):\n",
    "    \n",
    "    for i in range(0, 7):\n",
    "        start_index = i*24\n",
    "        avg_degree = sum(forecasted_data['temperature_2m'][start_index:start_index+8])/8\n",
    "        avg_dew = sum(forecasted_data['dewpoint_2m'][start_index:start_index+8])/8\n",
    "        avg_wind = sum(forecasted_data['windspeed_10m'][start_index:start_index+8])/8\n",
    "        avg_cloud = sum(forecasted_data['cloudcover'][start_index:start_index+8])/8\n",
    "\n",
    "        temp_wind_threshold = 5\n",
    "        temp_cloud_threshold = 50\n",
    "        if(avg_degree < 4.4 and avg_dew < 4.4 and avg_wind < temp_wind_threshold and avg_cloud < temp_cloud_threshold):\n",
    "            print(f'\\n Day: {i} \\n The frost is expected!!!!!!!')\n",
    "\n",
    "frost_warning(forecast_data['hourly'])\n",
    "print()\n",
    "print(forecast_data['hourly']['temperature_2m'][24:32])\n",
    "print(forecast_data['hourly']['dewpoint_2m'][24:32])\n",
    "print(forecast_data['hourly']['windspeed_10m'][24:32])\n",
    "print(forecast_data['hourly']['cloudcover'][24:32])"
   ]
  },
  {
   "cell_type": "markdown",
   "metadata": {},
   "source": [
    "### Recommendation of Irrigation Schedule\n",
    "\n",
    "May be determined according to the sunrise/sunset"
   ]
  },
  {
   "cell_type": "markdown",
   "metadata": {},
   "source": [
    "## Recommending Based On Alert Messages"
   ]
  },
  {
   "cell_type": "code",
   "execution_count": 59,
   "metadata": {},
   "outputs": [
    {
     "name": "stdout",
     "output_type": "stream",
     "text": [
      "\n",
      "Notifications for Tuesday:\n",
      "In the following hours the soil_moisture_9_27cm is high:\n",
      "between 2023-01-07T00:00 - 2023-01-07T23:00\n",
      "DECREASE SULAMAA AQKKKK\n",
      "\n",
      "Notifications for Wednesday:\n",
      "In the following hours the soil_moisture_9_27cm is high:\n",
      "between 2023-01-08T00:00 - 2023-01-08T23:00\n",
      "DECREASE SULAMAA AQKKKK\n",
      "\n",
      "Notifications for Thursday:\n",
      "In the following hours the soil_moisture_9_27cm is high:\n",
      "between 2023-01-09T00:00 - 2023-01-09T23:00\n",
      "DECREASE SULAMAA AQKKKK\n",
      "\n",
      "Notifications for Friday:\n",
      "In the following hours the soil_moisture_9_27cm is high:\n",
      "between 2023-01-10T00:00 - 2023-01-10T23:00\n",
      "DECREASE SULAMAA AQKKKK\n",
      "\n",
      "Notifications for Saturday:\n",
      "In the following hours the precipitation is high:\n",
      "between 2023-01-11T04:00 - 2023-01-11T12:00\n",
      "between 2023-01-11T16:00 - 2023-01-11T21:00\n",
      "DECREASE SULAMAA AQKKKK\n",
      "In the following hours the soil_moisture_9_27cm is high:\n",
      "between 2023-01-11T00:00 - 2023-01-11T23:00\n",
      "DECREASE SULAMAA AQKKKK\n",
      "\n",
      "Notifications for Sunday:\n",
      "In the following hours the precipitation is high:\n",
      "between 2023-01-12T07:00 - 2023-01-12T09:00\n",
      "DECREASE SULAMAA AQKKKK\n",
      "In the following hours the soil_moisture_9_27cm is high:\n",
      "between 2023-01-12T00:00 - 2023-01-12T23:00\n",
      "DECREASE SULAMAA AQKKKK\n",
      "\n",
      "Notifications for Monday:\n",
      "In the following hours the precipitation is high:\n",
      "between 2023-01-13T10:00 - 2023-01-13T15:00\n",
      "between 2023-01-13T19:00 - 2023-01-13T23:00\n",
      "DECREASE SULAMAA AQKKKK\n",
      "In the following hours the soil_moisture_9_27cm is high:\n",
      "between 2023-01-13T00:00 - 2023-01-13T23:00\n",
      "DECREASE SULAMAA AQKKKK\n",
      "\n",
      "##############################################\n",
      "\n",
      "Notifications for Tuesday:\n",
      "\n",
      "Notifications for Wednesday:\n",
      "\n",
      "Notifications for Thursday:\n",
      "\n",
      "Notifications for Friday:\n",
      "In the following hours the relativehumidity_2m is low:\n",
      "between 2023-01-10T11:00 - 2023-01-10T12:00\n",
      "ARTTIR KARDES BIRAZ OLDUK AK\n",
      "\n",
      "Notifications for Saturday:\n",
      "In the following hours the temperature_2m is high:\n",
      "between 2023-01-11T12:00 - 2023-01-11T13:00\n",
      "ARTTIR KARDES BIRAZ OLDUK AK\n",
      "In the following hours the relativehumidity_2m is low:\n",
      "between 2023-01-11T12:00 - 2023-01-11T16:00\n",
      "ARTTIR KARDES BIRAZ OLDUK AK\n",
      "In the following hours the windspeed_10m is high:\n",
      "between 2023-01-11T11:00 - 2023-01-11T14:00\n",
      "ARTTIR KARDES BIRAZ OLDUK AK\n",
      "\n",
      "Notifications for Sunday:\n",
      "In the following hours the temperature_2m is high:\n",
      "between 2023-01-12T10:00 - 2023-01-12T14:00\n",
      "ARTTIR KARDES BIRAZ OLDUK AK\n",
      "\n",
      "Notifications for Monday:\n",
      "In the following hours the temperature_2m is high:\n",
      "between 2023-01-13T10:00 - 2023-01-13T13:00\n",
      "ARTTIR KARDES BIRAZ OLDUK AK\n"
     ]
    }
   ],
   "source": [
    "week_dict = {1: 'Monday', 2: 'Tuesday', 3: 'Wednesday', 4: 'Thursday', 5: 'Friday', 6: 'Saturday', 7: 'Sunday'}\n",
    "\n",
    "def hour(time_string):\n",
    "    return int(time_string[-5:-3])\n",
    "\n",
    "def investigate_one_day(day_message):\n",
    "    if(len(day_message) == 0): return []\n",
    "    message_intervals = []\n",
    "\n",
    "    i = 0\n",
    "    current_first_end = day_message[i]\n",
    "    while(True):\n",
    "        current_last_end = day_message[i]\n",
    "        if(i >= len(day_message)-1):\n",
    "            message_intervals.append((current_first_end, current_last_end))\n",
    "            break\n",
    "        if(hour(day_message[i]) + 1 != hour(day_message[i+1])):\n",
    "            message_intervals.append((current_first_end, current_last_end))\n",
    "            current_first_end = day_message[i+1]\n",
    "        i += 1\n",
    "\n",
    "    return message_intervals\n",
    "\n",
    "def recommend(alert_message, alert_message_types, given_message = 'You may consider decreasing irrigation', today = 1):\n",
    "    for i in range(1, 8):\n",
    "        current_day = week_dict[(today+i-1)%7+1]\n",
    "        print(f'\\nNotifications for {current_day}:')\n",
    "        for type in alert_message[i]:\n",
    "            if(alert_message[i][type] != []):\n",
    "                print(f'In the following hours the {type} is {alert_message_types[type]}:')\n",
    "                intervals = investigate_one_day(alert_message[i][type])\n",
    "                for interval in intervals:\n",
    "                    print(f'between {interval[0]} - {interval[1]}')\n",
    "                print(given_message)\n",
    "\n",
    "    pass\n",
    "\n",
    "recommend(x[0], x[1], given_message = 'DECREASE SULAMAA AQKKKK')\n",
    "print('\\n##############################################')\n",
    "recommend(y[0], y[1], given_message = 'ARTTIR KARDES BIRAZ OLDUK AK')"
   ]
  },
  {
   "cell_type": "code",
   "execution_count": null,
   "metadata": {},
   "outputs": [],
   "source": []
  }
 ],
 "metadata": {
  "kernelspec": {
   "display_name": "Python 3.8.13 64-bit",
   "language": "python",
   "name": "python3"
  },
  "language_info": {
   "codemirror_mode": {
    "name": "ipython",
    "version": 3
   },
   "file_extension": ".py",
   "mimetype": "text/x-python",
   "name": "python",
   "nbconvert_exporter": "python",
   "pygments_lexer": "ipython3",
   "version": "3.8.13"
  },
  "orig_nbformat": 4,
  "vscode": {
   "interpreter": {
    "hash": "5b6e8fba36db23bc4d54e0302cd75fdd75c29d9edcbab68d6cfc74e7e4b30305"
   }
  }
 },
 "nbformat": 4,
 "nbformat_minor": 2
}
