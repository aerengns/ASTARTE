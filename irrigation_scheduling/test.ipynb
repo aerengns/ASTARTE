{
 "cells": [
  {
   "cell_type": "code",
   "execution_count": 1,
   "metadata": {},
   "outputs": [],
   "source": [
    "import requests\n",
    "import numpy as np\n",
    "\n",
    "\n",
    "FORECAST_URL = 'https://api.open-meteo.com/v1/forecast'\n",
    "\n",
    "HISTORICAL_DATA_URL = 'https://archive-api.open-meteo.com/v1/era5'\n",
    "\n",
    "FORECAST_PARAMS = {\n",
    "    'latitude':39.9439,\n",
    "    'longitude': 32.8560,\n",
    "    'hourly': ['temperature_2m', 'relativehumidity_2m', 'dewpoint_2m', 'precipitation', 'rain', 'windspeed_10m', 'winddirection_10m', 'soil_moisture_9_27cm', 'cloudcover']\n",
    "}\n",
    "\n",
    "HISTORICAL_PARAMS = {\n",
    "    'latitude':39.9439,\n",
    "    'longitude': 32.8560,\n",
    "    'hourly': ['temperature_2m', 'relativehumidity_2m', 'dewpoint_2m', 'precipitation', 'rain', 'windspeed_10m', 'soil_moisture_7_to_28cm', 'cloudcover']\n",
    "}\n",
    "\n",
    "forecast_r = requests.get(url = FORECAST_URL, params = FORECAST_PARAMS)\n",
    "\n",
    "HISTORICAL_PARAMS['start_date'] = '2021-01-01'\n",
    "HISTORICAL_PARAMS['end_date'] = '2022-01-01'\n",
    "\n",
    "historical_r = requests.get(url = HISTORICAL_DATA_URL, params = HISTORICAL_PARAMS)\n",
    "\n",
    "forecast_data = forecast_r.json()\n",
    "historical_data = historical_r.json()\n",
    "\n"
   ]
  },
  {
   "cell_type": "code",
   "execution_count": 2,
   "metadata": {},
   "outputs": [
    {
     "name": "stdout",
     "output_type": "stream",
     "text": [
      "time temperature_2m relativehumidity_2m dewpoint_2m precipitation rain windspeed_10m winddirection_10m soil_moisture_9_27cm cloudcover ****************\n",
      "time temperature_2m relativehumidity_2m dewpoint_2m precipitation rain windspeed_10m soil_moisture_7_to_28cm cloudcover 0 ('2021-01-01T00:00', 2.1)\n",
      "1 ('2021-01-01T01:00', 2.1)\n",
      "2 ('2021-01-01T02:00', 1.6)\n",
      "3 ('2021-01-01T03:00', 1.1)\n",
      "4 ('2021-01-01T04:00', 0.6)\n",
      "5 ('2021-01-01T05:00', 0.1)\n",
      "6 ('2021-01-01T06:00', 1.5)\n",
      "7 ('2021-01-01T07:00', 3.5)\n",
      "8 ('2021-01-01T08:00', 7.6)\n",
      "9 ('2021-01-01T09:00', 9.9)\n",
      "\n",
      "168\n",
      "366.0\n"
     ]
    }
   ],
   "source": [
    "for i in forecast_data['hourly']:\n",
    "    print(i, end=' ')\n",
    "print('****************')\n",
    "for i in historical_data['hourly']:\n",
    "    print(i, end=' ')\n",
    "\n",
    "# print('****************')\n",
    "# print('Forecast Data for 2 meters temperature')\n",
    "\n",
    "# for element in zip(forecast_data['hourly']['time'][:100], forecast_data['hourly']['temperature_2m'][:100], forecast_data['hourly']['relativehumidity_2m'][:100]\n",
    "# , forecast_data['hourly']['rain'][:100]):\n",
    "#     print(element)\n",
    "    \n",
    "# print('****************')\n",
    "# print('Historical Data for 2 meters temperature')    \n",
    "\n",
    "for i, element in enumerate(zip(historical_data['hourly']['time'][:10], historical_data['hourly']['temperature_2m'][:10])):\n",
    "    print(i, element)\n",
    "\n",
    "print()\n",
    "print(len(forecast_data['hourly']['temperature_2m']))\n",
    "print(len(historical_data['hourly']['temperature_2m'])/24)"
   ]
  },
  {
   "cell_type": "code",
   "execution_count": 3,
   "metadata": {},
   "outputs": [],
   "source": [
    "def get_pth_percentile(array, percentile):\n",
    "    sorted = np.sort(array)\n",
    "\n",
    "    ith = int((percentile/100)*(len(array)-1))\n",
    "\n",
    "    return sorted[ith]\n"
   ]
  },
  {
   "cell_type": "code",
   "execution_count": 4,
   "metadata": {},
   "outputs": [
    {
     "name": "stdout",
     "output_type": "stream",
     "text": [
      "{'time': '2021-11-26T08:00', 'temperature_2m': 26.3, 'relativehumidity_2m': 88, 'dewpoint_2m': 11.6, 'precipitation': 0.0, 'rain': 0.0, 'windspeed_10m': 13.2, 'soil_moisture_7_to_28cm': 0.291, 'cloudcover': 96}\n",
      "{'time': '2021-02-06T14:00', 'temperature_2m': 0.7, 'relativehumidity_2m': 28, 'dewpoint_2m': -4.0, 'precipitation': 0.0, 'rain': 0.0, 'windspeed_10m': 3.4, 'soil_moisture_7_to_28cm': 0.108, 'cloudcover': 0}\n"
     ]
    }
   ],
   "source": [
    "high_thresholds = {}\n",
    "for i in historical_data['hourly']:\n",
    "    high_thresholds[i] = get_pth_percentile(historical_data['hourly'][i], 90)\n",
    "\n",
    "low_thresholds = {}\n",
    "for i in historical_data['hourly']:\n",
    "    low_thresholds[i] = get_pth_percentile(historical_data['hourly'][i], 10)\n",
    "\n",
    "print(high_thresholds)\n",
    "print(low_thresholds)"
   ]
  },
  {
   "cell_type": "markdown",
   "metadata": {},
   "source": [
    "### Increasing Irrigation\n",
    "\n",
    "Temperature is high / humidity is low / wind speed is high"
   ]
  },
  {
   "cell_type": "code",
   "execution_count": 7,
   "metadata": {},
   "outputs": [
    {
     "data": {
      "text/plain": [
       "{1: [], 2: [], 3: [], 4: [], 5: [], 6: [], 7: []}"
      ]
     },
     "execution_count": 7,
     "metadata": {},
     "output_type": "execute_result"
    }
   ],
   "source": [
    "def increase_irrigation_alert(forecasted_data):\n",
    "    alerts = {}\n",
    "    day = 0\n",
    "    for i, row in enumerate(zip(forecasted_data['temperature_2m'], forecasted_data['relativehumidity_2m'], forecasted_data['windspeed_10m'])):\n",
    "        if(i%24 == 0):\n",
    "            day += 1\n",
    "            alerts[day] = []\n",
    "        #     print(f'DAY {day}: ')\n",
    "        # print(i, row)\n",
    "        if(row[0] > high_thresholds['temperature_2m']):\n",
    "            alerts[day].append(('temperature_2m', forecasted_data['time'][i]))\n",
    "\n",
    "        if(row[1] < low_thresholds['relativehumidity_2m']):\n",
    "            alerts[day].append(('relativehumidity_2m', forecasted_data['time'][i]))\n",
    "\n",
    "        if(row[2] > high_thresholds['windspeed_10m']):\n",
    "            alerts[day].append(('windspeed_10m', forecasted_data['time'][i]))\n",
    "\n",
    "    return alerts\n",
    "\n",
    "increase_irrigation_alert(forecast_data['hourly'])\n"
   ]
  },
  {
   "cell_type": "markdown",
   "metadata": {},
   "source": [
    "### Decreasing Irrigation\n",
    "\n",
    "Rain, precipitation is high / soil moisture is high"
   ]
  },
  {
   "cell_type": "code",
   "execution_count": 38,
   "metadata": {},
   "outputs": [],
   "source": [
    "def decrease_irrigation_alert(forecasted_data):\n",
    "    alerts = {}\n",
    "    day = 0\n",
    "    for i, row in enumerate(zip(forecasted_data['precipitation'], forecasted_data['soil_moisture_9_27cm'])):\n",
    "        if(i%24 == 0):\n",
    "            day += 1\n",
    "            alerts[day] = {}\n",
    "            alerts[day]['precipitation'] = []\n",
    "            alerts[day]['soil_moisture_9_27cm'] = []\n",
    "        #     print(f'DAY {day}: ')\n",
    "        # print(i, row)\n",
    "        if(row[0] > high_thresholds['precipitation']):\n",
    "            alerts[day]['precipitation'].append(forecasted_data['time'][i])\n",
    "\n",
    "        if(row[1] > high_thresholds['soil_moisture_7_to_28cm']):\n",
    "            alerts[day]['soil_moisture_9_27cm'].append(forecasted_data['time'][i])\n",
    "    return alerts\n",
    "\n",
    "x = decrease_irrigation_alert(forecast_data['hourly'])\n"
   ]
  },
  {
   "cell_type": "markdown",
   "metadata": {},
   "source": [
    "### Frost Warning\n",
    "\n",
    "- A forecasted overnight low less than 40 degrees F. (4.4 C.). \n",
    "- A dewpoint lower than 40 degrees F. \n",
    "- A cloudless night. (Be aware skies can clear overnight.) \n",
    "- A windless night.\n",
    "\n",
    "Read more at Gardening Know How: How To Predict Frost And Protect Your Garden https://www.gardeningknowhow.com/plant-problems/environmental/how-to-predict-frost.htm"
   ]
  },
  {
   "cell_type": "markdown",
   "metadata": {},
   "source": [
    "### Recommendation of Irrigation Schedule\n",
    "\n",
    "May be determined according to the sunrise/sunset"
   ]
  },
  {
   "cell_type": "markdown",
   "metadata": {},
   "source": [
    "## Recommending Based On Alert Messages"
   ]
  },
  {
   "cell_type": "code",
   "execution_count": 52,
   "metadata": {},
   "outputs": [
    {
     "name": "stdout",
     "output_type": "stream",
     "text": [
      "\n",
      "Notifications for Tuesday:\n",
      "In the following hours the soil_moisture_9_27cm is high:\n",
      "between 2022-12-27T00:00 - 2022-12-27T23:00\n",
      "You may consider decreasing irrigation\n",
      "\n",
      "Notifications for Wednesday:\n",
      "In the following hours the soil_moisture_9_27cm is high:\n",
      "between 2022-12-28T00:00 - 2022-12-28T23:00\n",
      "You may consider decreasing irrigation\n",
      "\n",
      "Notifications for Thursday:\n",
      "In the following hours the soil_moisture_9_27cm is high:\n",
      "between 2022-12-29T00:00 - 2022-12-29T23:00\n",
      "You may consider decreasing irrigation\n",
      "\n",
      "Notifications for Friday:\n",
      "In the following hours the soil_moisture_9_27cm is high:\n",
      "between 2022-12-30T00:00 - 2022-12-30T23:00\n",
      "You may consider decreasing irrigation\n",
      "\n",
      "Notifications for Saturday:\n",
      "In the following hours the soil_moisture_9_27cm is high:\n",
      "between 2022-12-31T00:00 - 2022-12-31T10:00\n",
      "You may consider decreasing irrigation\n",
      "\n",
      "Notifications for Sunday:\n",
      "\n",
      "Notifications for Monday:\n"
     ]
    }
   ],
   "source": [
    "week_dict = {1: 'Monday', 2: 'Tuesday', 3: 'Wednesday', 4: 'Thursday', 5: 'Friday', 6: 'Saturday', 7: 'Sunday'}\n",
    "\n",
    "def hour(time_string):\n",
    "    return int(time_string[-5:-3])\n",
    "\n",
    "def investigate_one_day(day_message):\n",
    "    if(len(day_message) == 0): return []\n",
    "    message_intervals = []\n",
    "\n",
    "    i = 0\n",
    "    current_first_end = day_message[i]\n",
    "    while(True):\n",
    "        current_last_end = day_message[i]\n",
    "        if(i >= len(day_message)-1):\n",
    "            message_intervals.append((current_first_end, current_last_end))\n",
    "            break\n",
    "        if(hour(day_message[i]) + 1 != hour(day_message[i+1])):\n",
    "            message_intervals.append((current_first_end, current_last_end))\n",
    "            current_first_end = day_message[i+1]\n",
    "        i += 1\n",
    "\n",
    "    return message_intervals\n",
    "\n",
    "def recommend(alert_message, today = 1):\n",
    "    for i in range(1, 8):\n",
    "        current_day = week_dict[(today+i-1)%7+1]\n",
    "        print(f'\\nNotifications for {current_day}:')\n",
    "        for type in alert_message[i]:\n",
    "            if(alert_message[i][type] != []):\n",
    "                print(f'In the following hours the {type} is high:')\n",
    "                intervals = investigate_one_day(alert_message[i][type])\n",
    "                for interval in intervals:\n",
    "                    print(f'between {interval[0]} - {interval[1]}')\n",
    "                print('You may consider decreasing irrigation')\n",
    "\n",
    "    pass\n",
    "\n",
    "recommend(x)"
   ]
  },
  {
   "cell_type": "code",
   "execution_count": null,
   "metadata": {},
   "outputs": [],
   "source": []
  }
 ],
 "metadata": {
  "kernelspec": {
   "display_name": "Python 3.8.13 64-bit",
   "language": "python",
   "name": "python3"
  },
  "language_info": {
   "codemirror_mode": {
    "name": "ipython",
    "version": 3
   },
   "file_extension": ".py",
   "mimetype": "text/x-python",
   "name": "python",
   "nbconvert_exporter": "python",
   "pygments_lexer": "ipython3",
   "version": "3.8.13"
  },
  "orig_nbformat": 4,
  "vscode": {
   "interpreter": {
    "hash": "5b6e8fba36db23bc4d54e0302cd75fdd75c29d9edcbab68d6cfc74e7e4b30305"
   }
  }
 },
 "nbformat": 4,
 "nbformat_minor": 2
}
